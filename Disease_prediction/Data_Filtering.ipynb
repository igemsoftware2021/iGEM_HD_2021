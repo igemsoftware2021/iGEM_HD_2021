{
 "cells": [
  {
   "cell_type": "code",
   "execution_count": 1,
   "id": "b0564c4a",
   "metadata": {},
   "outputs": [],
   "source": [
    "import pandas as pd\n",
    "import numpy as np"
   ]
  },
  {
   "cell_type": "markdown",
   "id": "416bdbc8",
   "metadata": {},
   "source": [
    "## Dataloading"
   ]
  },
  {
   "cell_type": "code",
   "execution_count": 3,
   "id": "a4ad1f82",
   "metadata": {},
   "outputs": [],
   "source": [
    "number_diseased = 18\n",
    "number_healthy = 97\n",
    "matrix = pd.read_csv(\"seq_data.csv\", delimiter=\",\", index_col=[0])\n",
    "matrix = pd.DataFrame(matrix)\n",
    "for pos, column in enumerate(matrix.columns):\n",
    "    matrix[column] = matrix[column].astype(int)\n",
    "matrix2 = matrix[0:number_healthy]\n",
    "matrix3 = matrix[number_healthy:len(matrix.columns)]"
   ]
  },
  {
   "cell_type": "markdown",
   "id": "9baadf83",
   "metadata": {},
   "source": [
    "## Filtering of Data"
   ]
  },
  {
   "cell_type": "code",
   "execution_count": null,
   "id": "7be90e34",
   "metadata": {},
   "outputs": [],
   "source": [
    "delete_column = []\n",
    "for pos,column in enumerate(matrix2.columns):\n",
    "    if matrix2.isin([0]).sum(axis=0)[pos] > 15 :\n",
    "        delete_column.append(column)\n",
    "for pos,column in enumerate(matrix3.columns):\n",
    "    if matrix3.isin([0]).sum(axis=0)[pos] > 0 :\n",
    "        delete_column.append(column)\n",
    "matrix.drop(columns = delete_column, inplace = True)\n",
    "for pos, index in enumerate(matrix.index):\n",
    "    matrix.loc[matrix.index[pos-1]] = matrix.loc[matrix.index[pos-1]].div(matrix.sum(axis=1)[pos-1])\n",
    "delete_column = []\n",
    "for pos, column in enumerate(matrix.columns):\n",
    "    if matrix.sum(axis=0)[pos] < 2:\n",
    "        delete_column.append(column)\n",
    "matrix.drop(columns = delete_column, inplace = True)\n",
    "matrix.head(115)mat"
   ]
  },
  {
   "cell_type": "markdown",
   "id": "37b7c722",
   "metadata": {},
   "source": [
    "## Saving data"
   ]
  },
  {
   "cell_type": "code",
   "execution_count": null,
   "id": "75b50dd7",
   "metadata": {},
   "outputs": [],
   "source": [
    "matrix.to_csv(\"filtered_data.csv\")"
   ]
  }
 ],
 "metadata": {
  "kernelspec": {
   "display_name": "Python 3 (ipykernel)",
   "language": "python",
   "name": "python3"
  },
  "language_info": {
   "codemirror_mode": {
    "name": "ipython",
    "version": 3
   },
   "file_extension": ".py",
   "mimetype": "text/x-python",
   "name": "python",
   "nbconvert_exporter": "python",
   "pygments_lexer": "ipython3",
   "version": "3.9.7"
  }
 },
 "nbformat": 4,
 "nbformat_minor": 5
}
